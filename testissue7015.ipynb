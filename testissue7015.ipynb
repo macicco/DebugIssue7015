{
 "cells": [
  {
   "cell_type": "code",
   "execution_count": null,
   "metadata": {
    "collapsed": true
   },
   "outputs": [],
   "source": [
    "############  issue 7015\n",
    "\n",
    "\n",
    "## \n",
    "\n",
    "\n",
    "\n",
    "\n",
    "\n",
    "\n",
    "#### code part from table.py ###\n",
    "\n",
    "def _dump_coldefs(self, fileobj):\n",
    "        \"\"\"\n",
    "        Write the column definition parameters in the ASCII format read by\n",
    "        BinTableHDU.load() to fileobj.\n",
    "        \"\"\"\n",
    "\n",
    "        close_file = False\n",
    "\n",
    "        if isinstance(fileobj, string_types):\n",
    "            fileobj = open(fileobj, 'w')\n",
    "            close_file = True\n",
    "\n",
    "        # Process each column of the table and output the result to the\n",
    "        # file one at a time\n",
    "        for column in self.columns:\n",
    "            line = [column.name, column.format]\n",
    "            attrs = ['disp', 'unit', 'dim', 'null', 'bscale', 'bzero']\n",
    "            line += ['{:16s}'.format(value if value else '\"\"')\n",
    "                     for value in (getattr(column, attr) for attr in attrs)]\n",
    "            fileobj.write(' '.join(line))\n",
    "            fileobj.write('\\n')\n",
    "\n",
    "        if close_file:\n",
    "            fileobj.close()\n"
   ]
  },
  {
   "cell_type": "code",
   "execution_count": null,
   "metadata": {
    "collapsed": true
   },
   "outputs": [],
   "source": [
    "#### code for debugging ############3\n",
    "\n",
    "\n",
    "import astropy\n",
    "\n",
    "astropy._version__\n",
    "\n",
    "\n"
   ]
  }
 ],
 "metadata": {
  "kernelspec": {
   "display_name": "Python [conda env:ENV]",
   "language": "python",
   "name": "conda-env-ENV-py"
  },
  "language_info": {
   "codemirror_mode": {
    "name": "ipython",
    "version": 3
   },
   "file_extension": ".py",
   "mimetype": "text/x-python",
   "name": "python",
   "nbconvert_exporter": "python",
   "pygments_lexer": "ipython3",
   "version": "3.6.3"
  }
 },
 "nbformat": 4,
 "nbformat_minor": 2
}
