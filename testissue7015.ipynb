{
 "cells": [
  {
   "cell_type": "code",
   "execution_count": null,
   "metadata": {
    "collapsed": true
   },
   "outputs": [],
   "source": [
    "############  issue 7015 ############### MINIMAL ###############################\n",
    "\n",
    "\n",
    "#### code part from astropy/io/fits/hdu/table.py ###\n",
    "\n",
    "\n",
    "## starting point line 1275 from the code: table.py\n",
    "\n",
    "def _dump_coldefs(self, fileobj):\n",
    "        \"\"\"\n",
    "        Write the column definition parameters in the ASCII format read by\n",
    "        BinTableHDU.load() to fileobj.\n",
    "        \"\"\"\n",
    "\n",
    "        close_file = False\n",
    "\n",
    "        if isinstance(fileobj, string_types):\n",
    "            fileobj = open(fileobj, 'w')\n",
    "            close_file = True\n",
    "\n",
    "        # Process each column of the table and output the result to the\n",
    "        # file one at a time\n",
    "        for column in self.columns:\n",
    "            line = [column.name, column.format]\n",
    "            attrs = ['disp', 'unit', 'dim', 'null', 'bscale', 'bzero']\n",
    "            line += ['{:16s}'.format(value if value else '\"\"')\n",
    "                     for value in (getattr(column, attr) for attr in attrs)]\n",
    "            fileobj.write(' '.join(line))\n",
    "            fileobj.write('\\n')\n",
    "\n",
    "        if close_file:\n",
    "            fileobj.close()\n"
   ]
  },
  {
   "cell_type": "code",
   "execution_count": null,
   "metadata": {},
   "outputs": [],
   "source": [
    "import astropy \n",
    "from astropy.io import fits\n",
    "\n",
    "\n",
    "fits.tabledump('/home/decicco/Documents/GitHub/astropy/astropy/io/fits/tests/data/tb.fits', 'foo.txt', hfile='hfile.txt', cdfile='cdfile.txt', overwrite=True)"
   ]
  },
  {
   "cell_type": "code",
   "execution_count": 10,
   "metadata": {},
   "outputs": [
    {
     "name": "stderr",
     "output_type": "stream",
     "text": [
      "WARNING: Overwriting existing file 'foo.txt'. [astropy.io.fits.hdu.table]\n"
     ]
    },
    {
     "ename": "ValueError",
     "evalue": "Unknown format code 's' for object of type 'int'",
     "output_type": "error",
     "traceback": [
      "\u001b[0;31m---------------------------------------------------------------------------\u001b[0m",
      "\u001b[0;31mValueError\u001b[0m                                Traceback (most recent call last)",
      "\u001b[0;32m<ipython-input-10-34b57886fd41>\u001b[0m in \u001b[0;36m<module>\u001b[0;34m()\u001b[0m\n\u001b[1;32m     14\u001b[0m \u001b[0;34m\u001b[0m\u001b[0m\n\u001b[1;32m     15\u001b[0m \u001b[0;34m\u001b[0m\u001b[0m\n\u001b[0;32m---> 16\u001b[0;31m \u001b[0mfits\u001b[0m\u001b[0;34m.\u001b[0m\u001b[0mtabledump\u001b[0m\u001b[0;34m(\u001b[0m\u001b[0;34m'/home/decicco/anaconda3/envs/ENV/lib/python3.6/site-packages/astropy/io/fits/tests/data/tb.fits'\u001b[0m\u001b[0;34m,\u001b[0m\u001b[0;34m'foo.txt'\u001b[0m\u001b[0;34m,\u001b[0m \u001b[0mhfile\u001b[0m\u001b[0;34m=\u001b[0m\u001b[0;34m'hfile.txt'\u001b[0m\u001b[0;34m,\u001b[0m \u001b[0mcdfile\u001b[0m\u001b[0;34m=\u001b[0m\u001b[0;34m'cdfile.txt'\u001b[0m\u001b[0;34m,\u001b[0m \u001b[0moverwrite\u001b[0m\u001b[0;34m=\u001b[0m\u001b[0;32mTrue\u001b[0m\u001b[0;34m)\u001b[0m\u001b[0;34m\u001b[0m\u001b[0m\n\u001b[0m\u001b[1;32m     17\u001b[0m \u001b[0;34m\u001b[0m\u001b[0m\n",
      "\u001b[0;32m~/anaconda3/envs/apy-7015/lib/python3.5/site-packages/astropy/utils/decorators.py\u001b[0m in \u001b[0;36mwrapper\u001b[0;34m(*args, **kwargs)\u001b[0m\n\u001b[1;32m    505\u001b[0m                         \u001b[0;31m# one with the name of the new argument to the function\u001b[0m\u001b[0;34m\u001b[0m\u001b[0;34m\u001b[0m\u001b[0m\n\u001b[1;32m    506\u001b[0m                         \u001b[0mkwargs\u001b[0m\u001b[0;34m[\u001b[0m\u001b[0mnew_name\u001b[0m\u001b[0;34m[\u001b[0m\u001b[0mi\u001b[0m\u001b[0;34m]\u001b[0m\u001b[0;34m]\u001b[0m \u001b[0;34m=\u001b[0m \u001b[0mvalue\u001b[0m\u001b[0;34m\u001b[0m\u001b[0m\n\u001b[0;32m--> 507\u001b[0;31m             \u001b[0;32mreturn\u001b[0m \u001b[0mfunction\u001b[0m\u001b[0;34m(\u001b[0m\u001b[0;34m*\u001b[0m\u001b[0margs\u001b[0m\u001b[0;34m,\u001b[0m \u001b[0;34m**\u001b[0m\u001b[0mkwargs\u001b[0m\u001b[0;34m)\u001b[0m\u001b[0;34m\u001b[0m\u001b[0m\n\u001b[0m\u001b[1;32m    508\u001b[0m \u001b[0;34m\u001b[0m\u001b[0m\n\u001b[1;32m    509\u001b[0m         \u001b[0;32mreturn\u001b[0m \u001b[0mwrapper\u001b[0m\u001b[0;34m\u001b[0m\u001b[0m\n",
      "\u001b[0;32m~/anaconda3/envs/apy-7015/lib/python3.5/site-packages/astropy/io/fits/convenience.py\u001b[0m in \u001b[0;36mtabledump\u001b[0;34m(filename, datafile, cdfile, hfile, ext, overwrite)\u001b[0m\n\u001b[1;32m    881\u001b[0m \u001b[0;34m\u001b[0m\u001b[0m\n\u001b[1;32m    882\u001b[0m         \u001b[0;31m# Dump the data from the HDU to the files\u001b[0m\u001b[0;34m\u001b[0m\u001b[0;34m\u001b[0m\u001b[0m\n\u001b[0;32m--> 883\u001b[0;31m         \u001b[0mf\u001b[0m\u001b[0;34m[\u001b[0m\u001b[0mext\u001b[0m\u001b[0;34m]\u001b[0m\u001b[0;34m.\u001b[0m\u001b[0mdump\u001b[0m\u001b[0;34m(\u001b[0m\u001b[0mdatafile\u001b[0m\u001b[0;34m,\u001b[0m \u001b[0mcdfile\u001b[0m\u001b[0;34m,\u001b[0m \u001b[0mhfile\u001b[0m\u001b[0;34m,\u001b[0m \u001b[0moverwrite\u001b[0m\u001b[0;34m)\u001b[0m\u001b[0;34m\u001b[0m\u001b[0m\n\u001b[0m\u001b[1;32m    884\u001b[0m     \u001b[0;32mfinally\u001b[0m\u001b[0;34m:\u001b[0m\u001b[0;34m\u001b[0m\u001b[0m\n\u001b[1;32m    885\u001b[0m         \u001b[0;32mif\u001b[0m \u001b[0mclosed\u001b[0m\u001b[0;34m:\u001b[0m\u001b[0;34m\u001b[0m\u001b[0m\n",
      "\u001b[0;32m~/anaconda3/envs/apy-7015/lib/python3.5/site-packages/astropy/utils/decorators.py\u001b[0m in \u001b[0;36mwrapper\u001b[0;34m(*args, **kwargs)\u001b[0m\n\u001b[1;32m    505\u001b[0m                         \u001b[0;31m# one with the name of the new argument to the function\u001b[0m\u001b[0;34m\u001b[0m\u001b[0;34m\u001b[0m\u001b[0m\n\u001b[1;32m    506\u001b[0m                         \u001b[0mkwargs\u001b[0m\u001b[0;34m[\u001b[0m\u001b[0mnew_name\u001b[0m\u001b[0;34m[\u001b[0m\u001b[0mi\u001b[0m\u001b[0;34m]\u001b[0m\u001b[0;34m]\u001b[0m \u001b[0;34m=\u001b[0m \u001b[0mvalue\u001b[0m\u001b[0;34m\u001b[0m\u001b[0m\n\u001b[0;32m--> 507\u001b[0;31m             \u001b[0;32mreturn\u001b[0m \u001b[0mfunction\u001b[0m\u001b[0;34m(\u001b[0m\u001b[0;34m*\u001b[0m\u001b[0margs\u001b[0m\u001b[0;34m,\u001b[0m \u001b[0;34m**\u001b[0m\u001b[0mkwargs\u001b[0m\u001b[0;34m)\u001b[0m\u001b[0;34m\u001b[0m\u001b[0m\n\u001b[0m\u001b[1;32m    508\u001b[0m \u001b[0;34m\u001b[0m\u001b[0m\n\u001b[1;32m    509\u001b[0m         \u001b[0;32mreturn\u001b[0m \u001b[0mwrapper\u001b[0m\u001b[0;34m\u001b[0m\u001b[0m\n",
      "\u001b[0;32m~/anaconda3/envs/apy-7015/lib/python3.5/site-packages/astropy/io/fits/hdu/table.py\u001b[0m in \u001b[0;36mdump\u001b[0;34m(self, datafile, cdfile, hfile, overwrite)\u001b[0m\n\u001b[1;32m   1058\u001b[0m         \u001b[0;31m# Process the column definitions\u001b[0m\u001b[0;34m\u001b[0m\u001b[0;34m\u001b[0m\u001b[0m\n\u001b[1;32m   1059\u001b[0m         \u001b[0;32mif\u001b[0m \u001b[0mcdfile\u001b[0m\u001b[0;34m:\u001b[0m\u001b[0;34m\u001b[0m\u001b[0m\n\u001b[0;32m-> 1060\u001b[0;31m             \u001b[0mself\u001b[0m\u001b[0;34m.\u001b[0m\u001b[0m_dump_coldefs\u001b[0m\u001b[0;34m(\u001b[0m\u001b[0mcdfile\u001b[0m\u001b[0;34m)\u001b[0m\u001b[0;34m\u001b[0m\u001b[0m\n\u001b[0m\u001b[1;32m   1061\u001b[0m \u001b[0;34m\u001b[0m\u001b[0m\n\u001b[1;32m   1062\u001b[0m         \u001b[0;31m# Process the header parameters\u001b[0m\u001b[0;34m\u001b[0m\u001b[0;34m\u001b[0m\u001b[0m\n",
      "\u001b[0;32m~/anaconda3/envs/apy-7015/lib/python3.5/site-packages/astropy/io/fits/hdu/table.py\u001b[0m in \u001b[0;36m_dump_coldefs\u001b[0;34m(self, fileobj)\u001b[0m\n\u001b[1;32m   1248\u001b[0m             \u001b[0mattrs\u001b[0m \u001b[0;34m=\u001b[0m \u001b[0;34m[\u001b[0m\u001b[0;34m'disp'\u001b[0m\u001b[0;34m,\u001b[0m \u001b[0;34m'unit'\u001b[0m\u001b[0;34m,\u001b[0m \u001b[0;34m'dim'\u001b[0m\u001b[0;34m,\u001b[0m \u001b[0;34m'null'\u001b[0m\u001b[0;34m,\u001b[0m \u001b[0;34m'bscale'\u001b[0m\u001b[0;34m,\u001b[0m \u001b[0;34m'bzero'\u001b[0m\u001b[0;34m]\u001b[0m\u001b[0;34m\u001b[0m\u001b[0m\n\u001b[1;32m   1249\u001b[0m             line += ['{:16s}'.format(value if value else '\"\"')\n\u001b[0;32m-> 1250\u001b[0;31m                      for value in (getattr(column, attr) for attr in attrs)]\n\u001b[0m\u001b[1;32m   1251\u001b[0m             \u001b[0mfileobj\u001b[0m\u001b[0;34m.\u001b[0m\u001b[0mwrite\u001b[0m\u001b[0;34m(\u001b[0m\u001b[0;34m' '\u001b[0m\u001b[0;34m.\u001b[0m\u001b[0mjoin\u001b[0m\u001b[0;34m(\u001b[0m\u001b[0mline\u001b[0m\u001b[0;34m)\u001b[0m\u001b[0;34m)\u001b[0m\u001b[0;34m\u001b[0m\u001b[0m\n\u001b[1;32m   1252\u001b[0m             \u001b[0mfileobj\u001b[0m\u001b[0;34m.\u001b[0m\u001b[0mwrite\u001b[0m\u001b[0;34m(\u001b[0m\u001b[0;34m'\\n'\u001b[0m\u001b[0;34m)\u001b[0m\u001b[0;34m\u001b[0m\u001b[0m\n",
      "\u001b[0;32m~/anaconda3/envs/apy-7015/lib/python3.5/site-packages/astropy/io/fits/hdu/table.py\u001b[0m in \u001b[0;36m<listcomp>\u001b[0;34m(.0)\u001b[0m\n\u001b[1;32m   1248\u001b[0m             \u001b[0mattrs\u001b[0m \u001b[0;34m=\u001b[0m \u001b[0;34m[\u001b[0m\u001b[0;34m'disp'\u001b[0m\u001b[0;34m,\u001b[0m \u001b[0;34m'unit'\u001b[0m\u001b[0;34m,\u001b[0m \u001b[0;34m'dim'\u001b[0m\u001b[0;34m,\u001b[0m \u001b[0;34m'null'\u001b[0m\u001b[0;34m,\u001b[0m \u001b[0;34m'bscale'\u001b[0m\u001b[0;34m,\u001b[0m \u001b[0;34m'bzero'\u001b[0m\u001b[0;34m]\u001b[0m\u001b[0;34m\u001b[0m\u001b[0m\n\u001b[1;32m   1249\u001b[0m             line += ['{:16s}'.format(value if value else '\"\"')\n\u001b[0;32m-> 1250\u001b[0;31m                      for value in (getattr(column, attr) for attr in attrs)]\n\u001b[0m\u001b[1;32m   1251\u001b[0m             \u001b[0mfileobj\u001b[0m\u001b[0;34m.\u001b[0m\u001b[0mwrite\u001b[0m\u001b[0;34m(\u001b[0m\u001b[0;34m' '\u001b[0m\u001b[0;34m.\u001b[0m\u001b[0mjoin\u001b[0m\u001b[0;34m(\u001b[0m\u001b[0mline\u001b[0m\u001b[0;34m)\u001b[0m\u001b[0;34m)\u001b[0m\u001b[0;34m\u001b[0m\u001b[0m\n\u001b[1;32m   1252\u001b[0m             \u001b[0mfileobj\u001b[0m\u001b[0;34m.\u001b[0m\u001b[0mwrite\u001b[0m\u001b[0;34m(\u001b[0m\u001b[0;34m'\\n'\u001b[0m\u001b[0;34m)\u001b[0m\u001b[0;34m\u001b[0m\u001b[0m\n",
      "\u001b[0;31mValueError\u001b[0m: Unknown format code 's' for object of type 'int'"
     ]
    }
   ],
   "source": [
    "#### Complete ############\n",
    "\n",
    "#issue: astropy 7015 \n",
    "\n",
    "\n",
    "# A funcao do '_dump_coldefs' do codigo table.py precisa converter para string certo inputs\n",
    "\n",
    "# Abaixo coloco o resultado apos rodar a funcao tabledump que deveria reunir de novo as partes separadas\n",
    "#do cabecalho de arquivo FITS, esta funcao chama algumas funcoes do codigo table.py\n",
    "\n",
    "\n",
    "import astropy\n",
    "\n",
    "astropy.__version__\n",
    "\n",
    "from astropy.io import fits\n",
    "\n",
    "\n",
    "fits.tabledump('/home/decicco/anaconda3/envs/ENV/lib/python3.6/site-packages/astropy/io/fits/tests/data/tb.fits','foo.txt', hfile='hfile.txt', cdfile='cdfile.txt', overwrite=True)\n",
    "\n"
   ]
  },
  {
   "cell_type": "code",
   "execution_count": null,
   "metadata": {},
   "outputs": [],
   "source": [
    "## Verifiable ####\n",
    "\n",
    "\n",
    "## o erro eh : 'ValueError: Unknown format code 's' for object of type 'int''\n",
    "\n",
    "# explorei a parte \"{:16s}', \n",
    "# eu tentei mudar a na linha 1292 do file table.py, tirei o inteiro '16', fiz testes, e o mesmo erro ocorreu, \n",
    "#depois tirei tudo de dentro'{}' e o mesmo erro ocorreu.\n",
    "\n",
    "\n",
    "\n",
    "\n",
    "\n"
   ]
  },
  {
   "cell_type": "code",
   "execution_count": null,
   "metadata": {
    "collapsed": true
   },
   "outputs": [],
   "source": []
  }
 ],
 "metadata": {
  "anaconda-cloud": {},
  "kernelspec": {
   "display_name": "Python [conda env:apy-7015]",
   "language": "python",
   "name": "conda-env-apy-7015-py"
  },
  "language_info": {
   "codemirror_mode": {
    "name": "ipython",
    "version": 3
   },
   "file_extension": ".py",
   "mimetype": "text/x-python",
   "name": "python",
   "nbconvert_exporter": "python",
   "pygments_lexer": "ipython3",
   "version": "3.5.4"
  }
 },
 "nbformat": 4,
 "nbformat_minor": 2
}
